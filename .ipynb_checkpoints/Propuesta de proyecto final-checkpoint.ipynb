{
 "cells": [
  {
   "cell_type": "markdown",
   "id": "a5ef198d",
   "metadata": {},
   "source": [
    "# <h1 style=\"font-family: Charcoal; font-size: 36px;\"><b><span style=\"color: black;\">Análisis de Viajes: Recomendaciones de TripAdvisor y Pronósticos Climáticos de SENAMHI</span></b></h1>"
   ]
  },
  {
   "cell_type": "markdown",
   "id": "f0d20470",
   "metadata": {},
   "source": [
    "<img src=\"https://denomades.s3.us-west-2.amazonaws.com/blog/wp-content/uploads/2019/10/16175617/llanganuco-huaraz-696x464.jpg\" alt=\"Gato adorable\" width=\"500\"/>"
   ]
  },
  {
   "cell_type": "markdown",
   "id": "3bd4b7f8",
   "metadata": {},
   "source": [
    "<h1 style=\"font-family:Charcoal\"><b><span style=\"color:blue;\">Propósito</span></b></h1>"
   ]
  },
  {
   "cell_type": "markdown",
   "id": "a4c9731a",
   "metadata": {},
   "source": [
    "<p style=\"font-family: Charcoal; font-size: 18px; color: black;\">\n",
    "    Ofrecer a los viajeros una experiencia completa y personalizada al planificar viajes a destinos específicos en Perú, se proporcionaría a los usuarios recomendaciones personalizadas de alojamiento basadas en reseñas y pronósticos climáticos precisos, permitiéndoles tomar decisiones informadas y adaptar sus planes de viaje según las condiciones climáticas locales.\n",
    "</p>"
   ]
  },
  {
   "cell_type": "markdown",
   "id": "3f7b75e1",
   "metadata": {},
   "source": [
    "<h1 style=\"font-family:Charcoal\"><b><span style=\"color:blue;\">Objetivos</span></b></h1>"
   ]
  },
  {
   "cell_type": "markdown",
   "id": "32a9fc33",
   "metadata": {},
   "source": [
    "<h2 style=\"font-family:Charcoal\"><b><span style=\"color:blue;\">Objetivos Generales</span></b></h2>"
   ]
  },
  {
   "cell_type": "markdown",
   "id": "ff4c9bbe",
   "metadata": {},
   "source": [
    "<p style=\"font-family: Charcoal; font-size: 18px; color: black;\">\n",
    "    - Proporcionar a los usuarios recomendaciones de alojamiento personalizadas basadas en reseñas de TripAdvisor, permitiendo a los viajeros encontrar opciones adaptadas a sus preferencias individuales.<br><br>\n",
    "    - Ofrecer pronósticos climáticos precisos a los viajeros, utilizando datos de SENAMHI, para que puedan planificar y ajustar sus viajes según las condiciones climáticas locales.\n",
    "</p>"
   ]
  },
  {
   "cell_type": "markdown",
   "id": "d01206ed",
   "metadata": {},
   "source": [
    "<h2 style=\"font-family:Charcoal\"><b><span style=\"color:blue;\">Objetivos Específicos</span></b></h2>"
   ]
  },
  {
   "cell_type": "markdown",
   "id": "196a7607",
   "metadata": {},
   "source": [
    "<p style=\"font-family: Charcoal; font-size: 18px; color: black;\">\n",
    "    - Proporcionar recomendaciones personalizadas y detalladas para viajeros al planificar sus viajes, integrando información sobre hoteles, condiciones climáticas, eventos locales y actividades turísticas en destinos específicos.<br><br>\n",
    "    - Emplear la página web de SENAMHI para ofrecer pronósticos climáticos locales altamente precisos y actualizados, permitiendo a los viajeros planificar actividades y prepararse adecuadamente para las condiciones meteorológicas.<br><br>\n",
    "    - Presentar de manera clara y comprensible los resultados del análisis a través de visualizaciones de datos y gráficos.<br><br>\n",
    "    - Diseñar una interfaz amigable que permita a los usuarios explorar las recomendaciones, filtrar por ubicación y obtener información detallada sobre las actividades disponibles.\n",
    "</p>"
   ]
  },
  {
   "cell_type": "markdown",
   "id": "565925ee",
   "metadata": {},
   "source": [
    "<h1 style=\"font-family:Charcoal\"><b><span style=\"color:blue;\">Webs y APIs</span></b></h1>"
   ]
  },
  {
   "cell_type": "markdown",
   "id": "f8f6af72",
   "metadata": {},
   "source": [
    "<p style=\"font-family: Charcoal; font-size: 18px; color: black;\">\n",
    "    - <strong>API de TripAdvisor:</strong><br>\n",
    "    Esta API proporciona acceso a una amplia base de datos de reseñas, información de hoteles, ubicaciones y clasificaciones de alojamientos en todo el mundo. Permite realizar consultas detalladas sobre hoteles, obtener reseñas de usuarios, datos de ubicación geográfica y otra información relevante para ayudar a los usuarios a tomar decisiones informadas sobre sus alojamientos.\n",
    "</p>"
   ]
  },
  {
   "cell_type": "markdown",
   "id": "feee907b",
   "metadata": {},
   "source": [
    "<img src=\"https://www.visit-goodplace.com/wp-content/uploads/2020/06/trip-advisor-logo-01.png\" alt=\"Gato adorable\" width=\"300\"/>"
   ]
  },
  {
   "cell_type": "markdown",
   "id": "73150556",
   "metadata": {},
   "source": [
    "<p style=\"font-family: Charcoal; font-size: 18px; color: black;\">\n",
    "    - <strong>Web Scraping de Pronósticos Meteorológicos de SENAMHI:</strong><br>\n",
    "    El web scraping de SENAMHI extrae datos de pronósticos meteorológicos de sitios web oficiales de Servicio Nacional de Meteorología e Hidrología del Perú. Proporciona información detallada sobre las condiciones climáticas actuales y futuras, incluyendo temperatura, humedad, precipitaciones y otros factores relevantes para múltiples regiones y localidades específicas en Perú.\n",
    "</p>"
   ]
  },
  {
   "cell_type": "markdown",
   "id": "1b3c0d66",
   "metadata": {},
   "source": [
    "\n",
    "<img src=\"https://www.awrisk.com/assets/img/teachers/senamhi.jpg\" alt=\"Gato adorable\" width=\"300\"/>"
   ]
  },
  {
   "cell_type": "markdown",
   "id": "d4041005",
   "metadata": {},
   "source": [
    "<h1 style=\"font-family:Charcoal\"><b><span style=\"color:blue;\">Descarga de datos, Estrategias y Estructuración</span></b></h1>"
   ]
  },
  {
   "cell_type": "markdown",
   "id": "64c39b67",
   "metadata": {},
   "source": [
    "<div style=\"width: 100%; margin: 0 auto; font-family:Charcoal, sans-serif; font-size: 18px;\">\n",
    "\n",
    "|       Fuente de Datos      |                 Datos a Descargar                   |              Estrategia de Descarga              |     Formato de Estructuración    |\n",
    "|:--------------------------|:---------------------------------------------------|:------------------------------------------------|:-------------------------------|\n",
    "|   **API de TripAdvisor**      | Detalles de hoteles: nombre, ubicación, precios, reseñas, puntuaciones, disponibilidad, etc. | Consultas por destino y categoría de hoteles en Perú |   Formato tabular (CSV) o html       |\n",
    "| **SENAMHI (Web Scraping)**    | Pronósticos meteorológicos: ubicación, fecha, temperatura máxima, temperatura mínima, descripción del clima. | Extracción mediante web scraping de la página oficial de SENAMHI |   Formato tabular (CSV) o html       |\n",
    "\n",
    "</div>"
   ]
  }
 ],
 "metadata": {
  "kernelspec": {
   "display_name": "Python 3 (ipykernel)",
   "language": "python",
   "name": "python3"
  }
 },
 "nbformat": 4,
 "nbformat_minor": 5
}
